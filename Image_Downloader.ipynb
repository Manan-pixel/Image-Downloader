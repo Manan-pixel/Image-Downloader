{
  "nbformat": 4,
  "nbformat_minor": 0,
  "metadata": {
    "colab": {
      "provenance": [],
      "authorship_tag": "ABX9TyNMHBWpM5QqiAy1ogzvUYlY",
      "include_colab_link": true
    },
    "kernelspec": {
      "name": "python3",
      "display_name": "Python 3"
    },
    "language_info": {
      "name": "python"
    }
  },
  "cells": [
    {
      "cell_type": "markdown",
      "metadata": {
        "id": "view-in-github",
        "colab_type": "text"
      },
      "source": [
        "<a href=\"https://colab.research.google.com/github/Manan-pixel/Image-Downloader/blob/main/Image_Downloader.ipynb\" target=\"_parent\"><img src=\"https://colab.research.google.com/assets/colab-badge.svg\" alt=\"Open In Colab\"/></a>"
      ]
    },
    {
      "cell_type": "code",
      "execution_count": null,
      "metadata": {
        "id": "b10squRZ0QK2"
      },
      "outputs": [],
      "source": [
        "!pip install bing-image-downloader"
      ]
    },
    {
      "cell_type": "code",
      "source": [
        "import os\n",
        "from bing_image_downloader import downloader\n",
        "from google.colab import files\n",
        "import shutil"
      ],
      "metadata": {
        "id": "CDXSRdJtiok4"
      },
      "execution_count": 17,
      "outputs": []
    },
    {
      "cell_type": "code",
      "source": [
        "#Using this, All output files and folders will be removed.\n",
        "#This Step is to ensure, only the Requested Folder gets downloaded in the last steps\n",
        "#So, please use with caution, as your other data (if any) will\n",
        "#also be deleted, i.e. all data in the Files On Left Hand Side Of Screen will be removed.\n",
        "cwd = os.getcwd()\n",
        "\n",
        "# Remove all files in the current directory\n",
        "files_in_cwd = os.listdir(cwd)\n",
        "for file in files_in_cwd:\n",
        "    file_path = os.path.join(cwd, file)\n",
        "    try:\n",
        "        if os.path.isfile(file_path):\n",
        "            os.remove(file_path)\n",
        "        elif os.path.isdir(file_path):\n",
        "            shutil.rmtree(file_path)\n",
        "    except Exception as e:\n",
        "        print(f\"Error removing {file_path}: {e}\")\n",
        "\n",
        "print(\"All output files and folders have been removed.\")"
      ],
      "metadata": {
        "id": "NvGxpaFPoiUI"
      },
      "execution_count": null,
      "outputs": []
    },
    {
      "cell_type": "code",
      "source": [
        "#Original Code\n",
        "#from bing_image_downloader import downloader\n",
        "#output_dir='/content'\n",
        "#query_string=\"4 Finger Count\"\n",
        "#downloader.download(query_string, limit=4,  output_dir=output_dir, adult_filter_off=True, force_replace=False, timeout=60, verbose=True)"
      ],
      "metadata": {
        "id": "tLKIQEXn0VLJ"
      },
      "execution_count": 19,
      "outputs": []
    },
    {
      "cell_type": "code",
      "source": [
        "output_dir='/content'\n",
        "query_string = input(\"Enter The Topic Of The Images: \")\n",
        "LIMIT=int(input(\"Enter The Number Of Images You Need: \"))\n",
        "downloader.download(query_string, limit=LIMIT,  output_dir=output_dir, adult_filter_off=True, force_replace=False, timeout=60, verbose=True)"
      ],
      "metadata": {
        "id": "SwcBtDvhf5XV"
      },
      "execution_count": null,
      "outputs": []
    },
    {
      "cell_type": "code",
      "source": [
        "# Get the absolute path of the output folder\n",
        "output_folder_path = os.path.abspath(output_dir)\n",
        "\n",
        "# Print the path of the output folder\n",
        "print(f\"The images have been downloaded to: {output_folder_path}\")"
      ],
      "metadata": {
        "id": "9qbfZRZXiibH"
      },
      "execution_count": null,
      "outputs": []
    },
    {
      "cell_type": "code",
      "source": [
        "# Compress the output directory\n",
        "shutil.make_archive(output_folder_path, 'zip', output_folder_path)\n",
        "\n",
        "# Download the zip file\n",
        "files.download(f\"{output_folder_path}.zip\")"
      ],
      "metadata": {
        "id": "hgtkNagsiXEh"
      },
      "execution_count": null,
      "outputs": []
    }
  ]
}